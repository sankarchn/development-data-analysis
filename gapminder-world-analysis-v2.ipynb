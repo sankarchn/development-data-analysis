{
 "cells": [
  {
   "cell_type": "markdown",
   "metadata": {},
   "source": [
    "# Project: Investigate World Bank Open Data\n",
    "\n",
    "## Table of Contents\n",
    "<ul>\n",
    "<li><a href=\"#intro\">Introduction</a></li>\n",
    "<li><a href=\"#wrangling\">Data Wrangling</a></li>\n",
    "<li><a href=\"#eda\">Exploratory Data Analysis</a></li>\n",
    "<li><a href=\"#conclusions\">Conclusions</a></li>\n",
    "</ul>"
   ]
  },
  {
   "cell_type": "markdown",
   "metadata": {},
   "source": [
    "<a id='intro'></a>\n",
    "## Introduction\n",
    "The [World Bank](https://data.worldbank.org/) releases a quite comprehensive  **global development data**  encompassing a wide range of developmental topics such as Agriculture & Rural Development, Economy, Health, Environment, International Trade, Urban Development etc., These are far more upto-date than the world dataset from Gapminder and in many case, Gapminder itself leverages data from World Bank for many of its indicators. In this project, we shall analyze few data pertaining to global ecnonomic & social development, published by World Bank to understand the distribution of productivity/prosperity in the world and its visible manifestations such as urbanization, CO2 emissions etc.,\n",
    "\n",
    "#### Development Indicators\n",
    "For the purpose of this study, we shall analyze the following development indicators:\n",
    "1. **GDP per capita, PPP (constant 2011 international $)**\n",
    "GDP per capita based on purchasing power parity (PPP). PPP GDP is gross domestic product converted to international dollars using purchasing power parity rates. An international dollar has the same purchasing power over GDP as the U.S. dollar has in the United States. GDP at purchaser's prices is the sum of gross value added by all resident producers in the economy plus any product taxes and minus any subsidies not included in the value of the products. It is calculated without making deductions for depreciation of fabricated assets or for depletion and degradation of natural resources. _Data are in constant 2011 international dollars_.\n",
    "2. **CO2 emissions (metric tons per capita)**\n",
    "Carbon dioxide emissions are those stemming from the burning of fossil fuels and the manufacture of cement. They include carbon dioxide produced during consumption of solid, liquid, and gas fuels and gas flaring.\n",
    "3. **Urban population (% of total)**\n",
    "Urban population refers to people living in urban areas as defined by national statistical offices. The data are collected and smoothed by United Nations Population Division.\n",
    "4. **Agriculture, value added (% of GDP)**\n",
    "Agriculture corresponds to ISIC divisions 1-5 and includes forestry, hunting, and fishing, as well as cultivation of crops and livestock production. Value added is the net output of a sector after adding up all outputs and subtracting intermediate inputs. It is calculated without making deductions for depreciation of fabricated assets or depletion and degradation of natural resources.\n",
    "\n",
    "#### Objectives\n",
    "Analyze the global development data to answer the following questions:\n",
    "- Which geographic region in the world has the most productivity in 2000? Did this change by 2016? Did any region improve its overall standing compared to other regions?\n",
    "- Identify the Top 10 and bottom 10 countries as per Per Capita GDP for both the base and target years. What can we say about the gap between them in 2000 and 2016? Is it widening?\n",
    "- Is the productivity of a country is correlated with levels of Urbanization & prevalence of Agriculture?\n",
    "- Are atmospheric CO2 emissions correlated with the productivity levels?"
   ]
  },
  {
   "cell_type": "code",
   "execution_count": 1,
   "metadata": {
    "collapsed": false
   },
   "outputs": [],
   "source": [
    "## import all necessary packages and functions.\n",
    "from os import path\n",
    "import csv # read and write csv files\n",
    "import pprint # use to print data structures like dictionaries in\n",
    "                      # a nicer way than the base print function.\n",
    "import math\n",
    "import numpy as np\n",
    "import pandas as pd\n",
    "from scipy import stats\n",
    "\n",
    "#from prettytable import PrettyTable\n",
    "from IPython.display import display, HTML\n",
    "\n",
    "%matplotlib inline\n",
    "import matplotlib.pyplot as plt\n",
    "import seaborn as sns"
   ]
  },
  {
   "cell_type": "markdown",
   "metadata": {},
   "source": [
    "<a id='wrangling'></a>\n",
    "## Data Wrangling\n",
    "\n",
    "### Approach\n",
    "For each indicator, data pertaining to all countries/regions for all years where measurement is made/estimated is available in a single csv file. We pull in list of countries and geographic regions from separate files and merge data from different indicator csv files. The major steps are listed below and realized in the code cells subsequent:\n",
    "- Extract list of countries and put it in a dataframe (df for short, henceforth)\n",
    "- Create a separate df holding list of major geographic regions and their codes\n",
    "- Create dataframes for each indicator studied pulling in data from the respective csv files\n",
    "- It is possible that indicator data is not available for all countries/years in question. We either exclude the country/region data from the study or substitute with data from the nearest year for which data is available.\n",
    "- Create a dataframe for the geographic region holding the needed Per Capita GDP for base and target years.\n",
    "- Create two distinct data frames for the base and target years holding country specific data."
   ]
  },
  {
   "cell_type": "code",
   "execution_count": 2,
   "metadata": {
    "collapsed": false
   },
   "outputs": [
    {
     "name": "stdout",
     "output_type": "stream",
     "text": [
      "                Country Name                      Region         Income Group\n",
      "Country Code                                                                 \n",
      "AFG              Afghanistan                  South Asia           Low income\n",
      "ALB                  Albania       Europe & Central Asia  Upper middle income\n",
      "DZA                  Algeria  Middle East & North Africa  Upper middle income\n",
      "ASM           American Samoa         East Asia & Pacific  Upper middle income\n",
      "AND                  Andorra       Europe & Central Asia          High income\n",
      "\n",
      "#Countries: 218\n"
     ]
    }
   ],
   "source": [
    "# (1) Extract list of countries\n",
    "countries_file = \".\\Data\\prj3\\World Bank\\World Bank Countries List.csv\"\n",
    "countries_df = pd.read_csv(countries_file, index_col='Country Code')\n",
    "print (countries_df.head())\n",
    "print('\\n#Countries: {0}'.format(countries_df.shape[0]))"
   ]
  },
  {
   "cell_type": "code",
   "execution_count": 3,
   "metadata": {
    "collapsed": false
   },
   "outputs": [
    {
     "name": "stdout",
     "output_type": "stream",
     "text": [
      "\n",
      "Geographic Regions for Countries\n",
      "                    GroupName\n",
      "0                  South Asia\n",
      "1       Europe & Central Asia\n",
      "2  Middle East & North Africa\n",
      "3         East Asia & Pacific\n",
      "4          Sub-Saharan Africa\n",
      "5   Latin America & Caribbean\n",
      "6               North America\n",
      "\n",
      "#Geographic Regions: 7\n"
     ]
    }
   ],
   "source": [
    "# (2) From the countries df, extract the geographical zone associated with each country and create \n",
    "# a dataframe containing just the list of geographic regions\n",
    "georegions_df = pd.DataFrame({'GroupName' : countries_df['Region'].unique()})\n",
    "print('\\nGeographic Regions for Countries')\n",
    "print(georegions_df)\n",
    "print('\\n#Geographic Regions: {0}'.format(georegions_df.shape[0]))"
   ]
  },
  {
   "cell_type": "code",
   "execution_count": 4,
   "metadata": {
    "collapsed": false
   },
   "outputs": [
    {
     "name": "stdout",
     "output_type": "stream",
     "text": [
      "   GroupCode                                    GroupName\n",
      "0        ARB                                   Arab World\n",
      "22       CEB               Central Europe and the Baltics\n",
      "33       CSS                       Caribbean small states\n",
      "46       EAP  East Asia & Pacific (excluding high income)\n",
      "70       EAR                   Early-demographic dividend\n",
      "\n",
      "After Merging Region Codes\n",
      "                            GroupName\n",
      "GroupCode                            \n",
      "SAS                        South Asia\n",
      "ECS             Europe & Central Asia\n",
      "MEA        Middle East & North Africa\n",
      "EAS               East Asia & Pacific\n",
      "SSF                Sub-Saharan Africa\n",
      "LCN         Latin America & Caribbean\n",
      "NAC                     North America\n",
      "\n",
      "#Geographic Regions: 7\n"
     ]
    }
   ],
   "source": [
    "# (3) Import Region data so that we can find out code for a specific geographical region\n",
    "# We have all kinds of regions defined in this including sub-zones and regions based on economic status\n",
    "# but we are only interested in the geographic regions captured in georegions_df above\n",
    "\n",
    "regions_file = \".\\Data\\prj3\\World Bank\\World Regions and Codes.csv\"\n",
    "all_regions_df = pd.read_csv(regions_file, usecols=['GroupCode', 'GroupName']).drop_duplicates()\n",
    "print(all_regions_df.head())\n",
    "\n",
    "# Add world bank defined codes to the regions in georegions_df\n",
    "georegions_df = pd.merge(georegions_df, all_regions_df, left_on='GroupName', right_on='GroupName', how='left')\n",
    "georegions_df.set_index('GroupCode', inplace=True)\n",
    "print('\\nAfter Merging Region Codes')\n",
    "print(georegions_df)\n",
    "print('\\n#Geographic Regions: {0}'.format(georegions_df.shape[0]))"
   ]
  },
  {
   "cell_type": "code",
   "execution_count": 5,
   "metadata": {
    "collapsed": false
   },
   "outputs": [],
   "source": [
    "# (4a) Import the global development indicators data\n",
    "datadir = \"./Data/prj3/World Bank/\" \n",
    "\n",
    "gdp_key = 'GDP Per Capita'\n",
    "urb_key =   '% Urbanization'\n",
    "agr_key = 'Agri GDP'\n",
    "co2_key = 'CO2 Emission' \n",
    "\n",
    "gdp_file = \"API_NY.GDP.PCAP.PP.KD_DS2_en_csv_v2.csv\" \n",
    "urb_file = \"API_SP.URB.TOTL.IN.ZS_DS2_en_csv_v2.csv\"\n",
    "agr_file = \"API_NV.AGR.TOTL.ZS_DS2_en_csv_v2.csv\"\n",
    "co2_file = \"API_EN.ATM.CO2E.PC_DS2_en_csv_v2.csv\"\n",
    "\n",
    "indicators = { \\\n",
    "    gdp_key : { 'src' : gdp_file }, \\\n",
    "    urb_key : { 'src' : urb_file }, \\\n",
    "    agr_key : { 'src' : agr_file }, \\\n",
    "    co2_key : { 'src' : co2_file }, \\\n",
    "}\n",
    "\n",
    "base_year = '2000'\n",
    "target_year = '2016'\n",
    "\n",
    "def fetch_indicator (fname, col1, col2) :\n",
    "    fpath = path.join(datadir, fname)\n",
    "    if (path.isfile(fpath) == True) :\n",
    "        # A visual scan of the datafiles indicates that skiprows = 4 is required to ignore the header info (not the columns) at the top\n",
    "        df = pd.read_csv (fpath, index_col = 'Country Code', skiprows=4, usecols=['Country Name', 'Country Code', col1, col2])\n",
    "    else :\n",
    "        df = None\n",
    "        print (\"file {} does not exist!\".format(fpath))\n",
    "    return df\n",
    "\n",
    "for k, val in indicators.iteritems() :\n",
    "    data_file = val['src']\n",
    "    val['df'] =  fetch_indicator (data_file, base_year, target_year)"
   ]
  },
  {
   "cell_type": "code",
   "execution_count": 6,
   "metadata": {
    "collapsed": false
   },
   "outputs": [
    {
     "data": {
      "text/html": [
       "<div>\n",
       "<style scoped>\n",
       "    .dataframe tbody tr th:only-of-type {\n",
       "        vertical-align: middle;\n",
       "    }\n",
       "\n",
       "    .dataframe tbody tr th {\n",
       "        vertical-align: top;\n",
       "    }\n",
       "\n",
       "    .dataframe thead th {\n",
       "        text-align: right;\n",
       "    }\n",
       "</style>\n",
       "<table border=\"1\" class=\"dataframe\">\n",
       "  <thead>\n",
       "    <tr style=\"text-align: right;\">\n",
       "      <th></th>\n",
       "      <th>Country Name</th>\n",
       "      <th>2000</th>\n",
       "      <th>2016</th>\n",
       "    </tr>\n",
       "  </thead>\n",
       "  <tbody>\n",
       "    <tr>\n",
       "      <th>Agri GDP</th>\n",
       "      <td>264</td>\n",
       "      <td>213</td>\n",
       "      <td>194</td>\n",
       "    </tr>\n",
       "    <tr>\n",
       "      <th>CO2 Emission</th>\n",
       "      <td>264</td>\n",
       "      <td>245</td>\n",
       "      <td>0</td>\n",
       "    </tr>\n",
       "    <tr>\n",
       "      <th>GDP Per Capita</th>\n",
       "      <td>264</td>\n",
       "      <td>233</td>\n",
       "      <td>228</td>\n",
       "    </tr>\n",
       "    <tr>\n",
       "      <th>% Urbanization</th>\n",
       "      <td>264</td>\n",
       "      <td>261</td>\n",
       "      <td>260</td>\n",
       "    </tr>\n",
       "  </tbody>\n",
       "</table>\n",
       "</div>"
      ],
      "text/plain": [
       "                Country Name  2000  2016\n",
       "Agri GDP                 264   213   194\n",
       "CO2 Emission             264   245     0\n",
       "GDP Per Capita           264   233   228\n",
       "% Urbanization           264   261   260"
      ]
     },
     "metadata": {},
     "output_type": "display_data"
    }
   ],
   "source": [
    "# (4b) Print a summary of the data imported.\n",
    "def print_data_counts ():\n",
    "    counts_df = pd.DataFrame( [val['df'].count() for k, val in indicators.iteritems() ], index = indicators.keys())\n",
    "    display(counts_df)\n",
    "    return\n",
    "\n",
    "print_data_counts()"
   ]
  },
  {
   "cell_type": "markdown",
   "metadata": {},
   "source": [
    "### Data Cleaning\n",
    "\n",
    "From the output of the previous cell, we can make the following observations:\n",
    "1. No of rows as in the count of 'Country Name' is 264 for all the indicators. While this consistency is good, this is 46 rows more than the no of countries revealed in step (1) which is 218. _**We need to figure out the non-country data included in the csv files.**_\n",
    "2. Indicator data is missing in some of the rows as the counts for base & target years are less than the total no. of rows for all the indicators. _**We shall choose only those rows, i.e. 'Country Name',  for which the indicator data is available for both the base and target years.**_\n",
    "3. Indicator data is sometimes missed for one or more of the development indicators. This is evident from the fact that counts for indicatorsas reflected base and target years are different for different indicators. _**We shall choose only those 'Country Name' for which all the indicator data are available for both the base and target years.**_\n",
    "4. CO2 emission data is not available for the target year 2016 (count is zero in the table above). Visual scan of the csv file confirms this is indeed due to lack of data at the source and not a programming error. **_Since the latest CO2 data available is for 2014, we shall use data from 2014 in lieu of 2016 for CO2 emissions alone._** [**Assumption:** The decision to use data from a previous year is not likely to significantly alter the direction of study findings as emission trends are generally known to be on the up -  we may just be underestimating the impact by a few notches.]"
   ]
  },
  {
   "cell_type": "code",
   "execution_count": 7,
   "metadata": {
    "collapsed": false
   },
   "outputs": [
    {
     "data": {
      "text/html": [
       "<div>\n",
       "<style scoped>\n",
       "    .dataframe tbody tr th:only-of-type {\n",
       "        vertical-align: middle;\n",
       "    }\n",
       "\n",
       "    .dataframe tbody tr th {\n",
       "        vertical-align: top;\n",
       "    }\n",
       "\n",
       "    .dataframe thead th {\n",
       "        text-align: right;\n",
       "    }\n",
       "</style>\n",
       "<table border=\"1\" class=\"dataframe\">\n",
       "  <thead>\n",
       "    <tr style=\"text-align: right;\">\n",
       "      <th></th>\n",
       "      <th>Country Name</th>\n",
       "      <th>2000</th>\n",
       "      <th>2016</th>\n",
       "    </tr>\n",
       "  </thead>\n",
       "  <tbody>\n",
       "    <tr>\n",
       "      <th>Agri GDP</th>\n",
       "      <td>264</td>\n",
       "      <td>213</td>\n",
       "      <td>194</td>\n",
       "    </tr>\n",
       "    <tr>\n",
       "      <th>CO2 Emission</th>\n",
       "      <td>264</td>\n",
       "      <td>245</td>\n",
       "      <td>249</td>\n",
       "    </tr>\n",
       "    <tr>\n",
       "      <th>GDP Per Capita</th>\n",
       "      <td>264</td>\n",
       "      <td>233</td>\n",
       "      <td>228</td>\n",
       "    </tr>\n",
       "    <tr>\n",
       "      <th>% Urbanization</th>\n",
       "      <td>264</td>\n",
       "      <td>261</td>\n",
       "      <td>260</td>\n",
       "    </tr>\n",
       "  </tbody>\n",
       "</table>\n",
       "</div>"
      ],
      "text/plain": [
       "                Country Name  2000  2016\n",
       "Agri GDP                 264   213   194\n",
       "CO2 Emission             264   245   249\n",
       "GDP Per Capita           264   233   228\n",
       "% Urbanization           264   261   260"
      ]
     },
     "metadata": {},
     "output_type": "display_data"
    }
   ],
   "source": [
    "# We have to first fix the CO2 file missing data for whole of target year. \n",
    "# Without doing this, any subsequent dropna() leaves the whole dataframe empty!\n",
    "co2_dict = indicators[co2_key]\n",
    "co2_df = fetch_indicator (co2_dict['src'], base_year, '2014')   # CO2 emission per person (in metric tons)\n",
    "co2_df.rename( columns = { '2014' : target_year}, inplace=True)\n",
    "co2_dict['df'] = co2_df\n",
    "print_data_counts()"
   ]
  },
  {
   "cell_type": "code",
   "execution_count": 8,
   "metadata": {
    "collapsed": false
   },
   "outputs": [],
   "source": [
    "def is_data_present (key) :\n",
    "    for k, val in indicators.iteritems():\n",
    "        print('checking...{}'.format(k))\n",
    "        df = val['df']\n",
    "        print(key in df.index)\n",
    "    return"
   ]
  },
  {
   "cell_type": "code",
   "execution_count": 9,
   "metadata": {
    "collapsed": false
   },
   "outputs": [
    {
     "name": "stdout",
     "output_type": "stream",
     "text": [
      "\n",
      "Cleaning dataframe for missing indicator values..\n",
      "\n"
     ]
    },
    {
     "data": {
      "text/html": [
       "<div>\n",
       "<style scoped>\n",
       "    .dataframe tbody tr th:only-of-type {\n",
       "        vertical-align: middle;\n",
       "    }\n",
       "\n",
       "    .dataframe tbody tr th {\n",
       "        vertical-align: top;\n",
       "    }\n",
       "\n",
       "    .dataframe thead th {\n",
       "        text-align: right;\n",
       "    }\n",
       "</style>\n",
       "<table border=\"1\" class=\"dataframe\">\n",
       "  <thead>\n",
       "    <tr style=\"text-align: right;\">\n",
       "      <th></th>\n",
       "      <th>Country Name</th>\n",
       "      <th>2000</th>\n",
       "      <th>2016</th>\n",
       "    </tr>\n",
       "  </thead>\n",
       "  <tbody>\n",
       "    <tr>\n",
       "      <th>Agri GDP</th>\n",
       "      <td>178</td>\n",
       "      <td>178</td>\n",
       "      <td>178</td>\n",
       "    </tr>\n",
       "    <tr>\n",
       "      <th>CO2 Emission</th>\n",
       "      <td>242</td>\n",
       "      <td>242</td>\n",
       "      <td>242</td>\n",
       "    </tr>\n",
       "    <tr>\n",
       "      <th>GDP Per Capita</th>\n",
       "      <td>225</td>\n",
       "      <td>225</td>\n",
       "      <td>225</td>\n",
       "    </tr>\n",
       "    <tr>\n",
       "      <th>% Urbanization</th>\n",
       "      <td>260</td>\n",
       "      <td>260</td>\n",
       "      <td>260</td>\n",
       "    </tr>\n",
       "  </tbody>\n",
       "</table>\n",
       "</div>"
      ],
      "text/plain": [
       "                Country Name  2000  2016\n",
       "Agri GDP                 178   178   178\n",
       "CO2 Emission             242   242   242\n",
       "GDP Per Capita           225   225   225\n",
       "% Urbanization           260   260   260"
      ]
     },
     "metadata": {},
     "output_type": "display_data"
    }
   ],
   "source": [
    "# Drop rows that are missing any indicator data\n",
    "def clean_missing_data() :\n",
    "    for k, val in indicators.iteritems():\n",
    "        #print('Cleaning...{}'.format(indicator))\n",
    "        df = val['df']\n",
    "        df.dropna(inplace=True)\n",
    "\n",
    "print('\\nCleaning dataframe for missing indicator values..\\n')\n",
    "clean_missing_data()\n",
    "print_data_counts()"
   ]
  },
  {
   "cell_type": "code",
   "execution_count": 10,
   "metadata": {
    "collapsed": false
   },
   "outputs": [],
   "source": [
    "# Round off the GDP data so that it is little easier to analyze/visualize.\n",
    "gdp_df = indicators[gdp_key]['df']\n",
    "gdp_df[base_year] = gdp_df[base_year].astype(int)\n",
    "gdp_df[target_year] = gdp_df[target_year].astype(int)"
   ]
  },
  {
   "cell_type": "code",
   "execution_count": 11,
   "metadata": {
    "collapsed": false
   },
   "outputs": [
    {
     "data": {
      "text/html": [
       "<div>\n",
       "<style scoped>\n",
       "    .dataframe tbody tr th:only-of-type {\n",
       "        vertical-align: middle;\n",
       "    }\n",
       "\n",
       "    .dataframe tbody tr th {\n",
       "        vertical-align: top;\n",
       "    }\n",
       "\n",
       "    .dataframe thead th {\n",
       "        text-align: right;\n",
       "    }\n",
       "</style>\n",
       "<table border=\"1\" class=\"dataframe\">\n",
       "  <thead>\n",
       "    <tr style=\"text-align: right;\">\n",
       "      <th></th>\n",
       "      <th>Country Name</th>\n",
       "      <th>2000</th>\n",
       "      <th>2016</th>\n",
       "    </tr>\n",
       "    <tr>\n",
       "      <th>Country Code</th>\n",
       "      <th></th>\n",
       "      <th></th>\n",
       "      <th></th>\n",
       "    </tr>\n",
       "  </thead>\n",
       "  <tbody>\n",
       "    <tr>\n",
       "      <th>ARB</th>\n",
       "      <td>Arab World</td>\n",
       "      <td>11782</td>\n",
       "      <td>15524</td>\n",
       "    </tr>\n",
       "    <tr>\n",
       "      <th>CEB</th>\n",
       "      <td>Central Europe and the Baltics</td>\n",
       "      <td>14424</td>\n",
       "      <td>25231</td>\n",
       "    </tr>\n",
       "    <tr>\n",
       "      <th>CSS</th>\n",
       "      <td>Caribbean small states</td>\n",
       "      <td>11089</td>\n",
       "      <td>14252</td>\n",
       "    </tr>\n",
       "    <tr>\n",
       "      <th>EAP</th>\n",
       "      <td>East Asia &amp; Pacific (excluding high income)</td>\n",
       "      <td>4154</td>\n",
       "      <td>12843</td>\n",
       "    </tr>\n",
       "    <tr>\n",
       "      <th>EAR</th>\n",
       "      <td>Early-demographic dividend</td>\n",
       "      <td>5160</td>\n",
       "      <td>8548</td>\n",
       "    </tr>\n",
       "  </tbody>\n",
       "</table>\n",
       "</div>"
      ],
      "text/plain": [
       "                                             Country Name   2000   2016\n",
       "Country Code                                                           \n",
       "ARB                                            Arab World  11782  15524\n",
       "CEB                        Central Europe and the Baltics  14424  25231\n",
       "CSS                                Caribbean small states  11089  14252\n",
       "EAP           East Asia & Pacific (excluding high income)   4154  12843\n",
       "EAR                            Early-demographic dividend   5160   8548"
      ]
     },
     "metadata": {},
     "output_type": "display_data"
    }
   ],
   "source": [
    "# Let us examine the GDP data - identify data present other than country specific data\n",
    "# First extract the index of countries and gdp dataframes, do a diff and lookup the gdp dataframe\n",
    "gdp_df = indicators[gdp_key]['df']\n",
    "gdp_index = gdp_df.index\n",
    "countries_index = countries_df.index\n",
    "non_countries_index = gdp_index.difference(countries_index)\n",
    "display(gdp_df.loc[non_countries_index, :].head())"
   ]
  },
  {
   "cell_type": "markdown",
   "metadata": {},
   "source": [
    "From the above output, we infer that the indicator data for geographic regions (Arab World, South Asia etc.,) and economic regions (High Income, Low Income etc.,) is made available along with data for individual countries in the same dataframe. (This can be easily verified for all the indicator files but omitted here for bevity.) This is good since, for answering the first question, we need GDP data for geographic regions. As this is already available in the source, we don't need to estimate regional GDP based on the knowledge of countries assigned to a geography and indicator data for each country. \n",
    "\n",
    "We shall now proceed to construct dataframes merging the data for indicators from individual sources:\n",
    "- dataframe with both base & target year GDP data for geographic regions // since we analyze only GDP data for georegions, put the data for base and target years together in the same df, making analysis a little easier\n",
    "- dataframe with base year data for countries // merge data for all indicators\n",
    "- dataframe with target year data for countries  //  merge data for all indicators"
   ]
  },
  {
   "cell_type": "code",
   "execution_count": 12,
   "metadata": {
    "collapsed": true
   },
   "outputs": [],
   "source": [
    "# Utility function to merge a column named 'origcol_name' from right_df to left_df  \n",
    "# rename the origcol_name in the newdf to newcol_name\n",
    "# Merging is based on intersection of indices from left_df & right_df\n",
    "def merge_col (left_df, right_df, origcol_name, newcol_name=None):\n",
    "    left_df = pd.merge(left_df, right_df[[origcol_name]], left_index=True, right_index=True, how='inner').dropna()\n",
    "    if (newcol_name != None) :\n",
    "        left_df.rename(columns = { origcol_name :newcol_name}, inplace=True)\n",
    "    return left_df"
   ]
  },
  {
   "cell_type": "code",
   "execution_count": 13,
   "metadata": {
    "collapsed": false
   },
   "outputs": [
    {
     "name": "stdout",
     "output_type": "stream",
     "text": [
      "\n",
      "GDP Data For Regions (2000 & 2016)\n",
      "\n"
     ]
    },
    {
     "data": {
      "text/html": [
       "<div>\n",
       "<style scoped>\n",
       "    .dataframe tbody tr th:only-of-type {\n",
       "        vertical-align: middle;\n",
       "    }\n",
       "\n",
       "    .dataframe tbody tr th {\n",
       "        vertical-align: top;\n",
       "    }\n",
       "\n",
       "    .dataframe thead th {\n",
       "        text-align: right;\n",
       "    }\n",
       "</style>\n",
       "<table border=\"1\" class=\"dataframe\">\n",
       "  <thead>\n",
       "    <tr style=\"text-align: right;\">\n",
       "      <th></th>\n",
       "      <th>GroupName</th>\n",
       "      <th>2000</th>\n",
       "      <th>2016</th>\n",
       "    </tr>\n",
       "  </thead>\n",
       "  <tbody>\n",
       "    <tr>\n",
       "      <th>SAS</th>\n",
       "      <td>South Asia</td>\n",
       "      <td>2519</td>\n",
       "      <td>5620</td>\n",
       "    </tr>\n",
       "    <tr>\n",
       "      <th>ECS</th>\n",
       "      <td>Europe &amp; Central Asia</td>\n",
       "      <td>22225</td>\n",
       "      <td>29161</td>\n",
       "    </tr>\n",
       "    <tr>\n",
       "      <th>MEA</th>\n",
       "      <td>Middle East &amp; North Africa</td>\n",
       "      <td>13504</td>\n",
       "      <td>18069</td>\n",
       "    </tr>\n",
       "    <tr>\n",
       "      <th>EAS</th>\n",
       "      <td>East Asia &amp; Pacific</td>\n",
       "      <td>7187</td>\n",
       "      <td>15786</td>\n",
       "    </tr>\n",
       "    <tr>\n",
       "      <th>SSF</th>\n",
       "      <td>Sub-Saharan Africa</td>\n",
       "      <td>2403</td>\n",
       "      <td>3453</td>\n",
       "    </tr>\n",
       "    <tr>\n",
       "      <th>LCN</th>\n",
       "      <td>Latin America &amp; Caribbean</td>\n",
       "      <td>11337</td>\n",
       "      <td>14321</td>\n",
       "    </tr>\n",
       "    <tr>\n",
       "      <th>NAC</th>\n",
       "      <td>North America</td>\n",
       "      <td>45146</td>\n",
       "      <td>52306</td>\n",
       "    </tr>\n",
       "  </tbody>\n",
       "</table>\n",
       "</div>"
      ],
      "text/plain": [
       "                      GroupName   2000   2016\n",
       "SAS                  South Asia   2519   5620\n",
       "ECS       Europe & Central Asia  22225  29161\n",
       "MEA  Middle East & North Africa  13504  18069\n",
       "EAS         East Asia & Pacific   7187  15786\n",
       "SSF          Sub-Saharan Africa   2403   3453\n",
       "LCN   Latin America & Caribbean  11337  14321\n",
       "NAC               North America  45146  52306"
      ]
     },
     "metadata": {},
     "output_type": "display_data"
    }
   ],
   "source": [
    "# Build the GDP df  for georegions\n",
    "    \n",
    "print ('\\nGDP Data For Regions (2000 & 2016)\\n')\n",
    "georegions_gdp_df = pd.DataFrame(georegions_df['GroupName'])\n",
    "gdp_df = indicators[gdp_key]['df']\n",
    "georegions_gdp_df = merge_col (georegions_gdp_df, gdp_df, base_year)\n",
    "georegions_gdp_df = merge_col (georegions_gdp_df, gdp_df, target_year)\n",
    "\n",
    "display (georegions_gdp_df)"
   ]
  },
  {
   "cell_type": "code",
   "execution_count": 14,
   "metadata": {
    "collapsed": false
   },
   "outputs": [
    {
     "name": "stdout",
     "output_type": "stream",
     "text": [
      "\n",
      "Indicator Data For Countries (2000)\n",
      "\n"
     ]
    },
    {
     "data": {
      "text/html": [
       "<div>\n",
       "<style scoped>\n",
       "    .dataframe tbody tr th:only-of-type {\n",
       "        vertical-align: middle;\n",
       "    }\n",
       "\n",
       "    .dataframe tbody tr th {\n",
       "        vertical-align: top;\n",
       "    }\n",
       "\n",
       "    .dataframe thead th {\n",
       "        text-align: right;\n",
       "    }\n",
       "</style>\n",
       "<table border=\"1\" class=\"dataframe\">\n",
       "  <thead>\n",
       "    <tr style=\"text-align: right;\">\n",
       "      <th></th>\n",
       "      <th>Country Name</th>\n",
       "      <th>Agri GDP</th>\n",
       "      <th>CO2 Emission</th>\n",
       "      <th>GDP Per Capita</th>\n",
       "      <th>% Urbanization</th>\n",
       "    </tr>\n",
       "    <tr>\n",
       "      <th>Country Code</th>\n",
       "      <th></th>\n",
       "      <th></th>\n",
       "      <th></th>\n",
       "      <th></th>\n",
       "      <th></th>\n",
       "    </tr>\n",
       "  </thead>\n",
       "  <tbody>\n",
       "    <tr>\n",
       "      <th>ALB</th>\n",
       "      <td>Albania</td>\n",
       "      <td>26.490462</td>\n",
       "      <td>0.978175</td>\n",
       "      <td>5668</td>\n",
       "      <td>41.741</td>\n",
       "    </tr>\n",
       "    <tr>\n",
       "      <th>DZA</th>\n",
       "      <td>Algeria</td>\n",
       "      <td>8.978202</td>\n",
       "      <td>2.817544</td>\n",
       "      <td>10211</td>\n",
       "      <td>59.919</td>\n",
       "    </tr>\n",
       "    <tr>\n",
       "      <th>ATG</th>\n",
       "      <td>Antigua and Barbuda</td>\n",
       "      <td>1.768616</td>\n",
       "      <td>4.123971</td>\n",
       "      <td>18908</td>\n",
       "      <td>32.127</td>\n",
       "    </tr>\n",
       "    <tr>\n",
       "      <th>ARG</th>\n",
       "      <td>Argentina</td>\n",
       "      <td>5.053021</td>\n",
       "      <td>3.835574</td>\n",
       "      <td>14899</td>\n",
       "      <td>89.142</td>\n",
       "    </tr>\n",
       "    <tr>\n",
       "      <th>ARM</th>\n",
       "      <td>Armenia</td>\n",
       "      <td>25.547870</td>\n",
       "      <td>1.128919</td>\n",
       "      <td>2924</td>\n",
       "      <td>64.666</td>\n",
       "    </tr>\n",
       "  </tbody>\n",
       "</table>\n",
       "</div>"
      ],
      "text/plain": [
       "                     Country Name   Agri GDP  CO2 Emission  GDP Per Capita  \\\n",
       "Country Code                                                                 \n",
       "ALB                       Albania  26.490462      0.978175            5668   \n",
       "DZA                       Algeria   8.978202      2.817544           10211   \n",
       "ATG           Antigua and Barbuda   1.768616      4.123971           18908   \n",
       "ARG                     Argentina   5.053021      3.835574           14899   \n",
       "ARM                       Armenia  25.547870      1.128919            2924   \n",
       "\n",
       "              % Urbanization  \n",
       "Country Code                  \n",
       "ALB                   41.741  \n",
       "DZA                   59.919  \n",
       "ATG                   32.127  \n",
       "ARG                   89.142  \n",
       "ARM                   64.666  "
      ]
     },
     "metadata": {},
     "output_type": "display_data"
    },
    {
     "name": "stdout",
     "output_type": "stream",
     "text": [
      "\n",
      "Indicator Data For Countries (2016)\n",
      "\n"
     ]
    },
    {
     "data": {
      "text/html": [
       "<div>\n",
       "<style scoped>\n",
       "    .dataframe tbody tr th:only-of-type {\n",
       "        vertical-align: middle;\n",
       "    }\n",
       "\n",
       "    .dataframe tbody tr th {\n",
       "        vertical-align: top;\n",
       "    }\n",
       "\n",
       "    .dataframe thead th {\n",
       "        text-align: right;\n",
       "    }\n",
       "</style>\n",
       "<table border=\"1\" class=\"dataframe\">\n",
       "  <thead>\n",
       "    <tr style=\"text-align: right;\">\n",
       "      <th></th>\n",
       "      <th>Country Name</th>\n",
       "      <th>Agri GDP</th>\n",
       "      <th>CO2 Emission</th>\n",
       "      <th>GDP Per Capita</th>\n",
       "      <th>% Urbanization</th>\n",
       "    </tr>\n",
       "    <tr>\n",
       "      <th>Country Code</th>\n",
       "      <th></th>\n",
       "      <th></th>\n",
       "      <th></th>\n",
       "      <th></th>\n",
       "      <th></th>\n",
       "    </tr>\n",
       "  </thead>\n",
       "  <tbody>\n",
       "    <tr>\n",
       "      <th>ALB</th>\n",
       "      <td>Albania</td>\n",
       "      <td>22.894886</td>\n",
       "      <td>1.978763</td>\n",
       "      <td>11359</td>\n",
       "      <td>58.376</td>\n",
       "    </tr>\n",
       "    <tr>\n",
       "      <th>DZA</th>\n",
       "      <td>Algeria</td>\n",
       "      <td>13.320556</td>\n",
       "      <td>3.717410</td>\n",
       "      <td>13921</td>\n",
       "      <td>71.304</td>\n",
       "    </tr>\n",
       "    <tr>\n",
       "      <th>ATG</th>\n",
       "      <td>Antigua and Barbuda</td>\n",
       "      <td>1.891544</td>\n",
       "      <td>5.377649</td>\n",
       "      <td>21013</td>\n",
       "      <td>23.393</td>\n",
       "    </tr>\n",
       "    <tr>\n",
       "      <th>ARG</th>\n",
       "      <td>Argentina</td>\n",
       "      <td>7.560388</td>\n",
       "      <td>4.746797</td>\n",
       "      <td>18489</td>\n",
       "      <td>91.893</td>\n",
       "    </tr>\n",
       "    <tr>\n",
       "      <th>ARM</th>\n",
       "      <td>Armenia</td>\n",
       "      <td>17.713711</td>\n",
       "      <td>1.902759</td>\n",
       "      <td>8190</td>\n",
       "      <td>62.558</td>\n",
       "    </tr>\n",
       "  </tbody>\n",
       "</table>\n",
       "</div>"
      ],
      "text/plain": [
       "                     Country Name   Agri GDP  CO2 Emission  GDP Per Capita  \\\n",
       "Country Code                                                                 \n",
       "ALB                       Albania  22.894886      1.978763           11359   \n",
       "DZA                       Algeria  13.320556      3.717410           13921   \n",
       "ATG           Antigua and Barbuda   1.891544      5.377649           21013   \n",
       "ARG                     Argentina   7.560388      4.746797           18489   \n",
       "ARM                       Armenia  17.713711      1.902759            8190   \n",
       "\n",
       "              % Urbanization  \n",
       "Country Code                  \n",
       "ALB                   58.376  \n",
       "DZA                   71.304  \n",
       "ATG                   23.393  \n",
       "ARG                   91.893  \n",
       "ARM                   62.558  "
      ]
     },
     "metadata": {},
     "output_type": "display_data"
    }
   ],
   "source": [
    "# consolidate all the indicator data for the given year into the passed in dataframe\n",
    "def build_yearly_df (year, df_in):\n",
    "    for k, val in indicators.iteritems() :\n",
    "        data_df = val['df']\n",
    "        df_in = merge_col(df_in, data_df, year,  k)\n",
    "        #print(df.head())\n",
    "    return df_in\n",
    "\n",
    "# build the dataframe holding country specific information for the base year\n",
    "print ('\\nIndicator Data For Countries (2000)\\n')\n",
    "countries_base_df = pd.DataFrame(countries_df['Country Name'])\n",
    "countries_base_df = build_yearly_df (base_year, countries_base_df)\n",
    "display (countries_base_df.head())\n",
    "\n",
    "# build the dataframe holding country specific information for the target year\n",
    "print ('\\nIndicator Data For Countries (2016)\\n')\n",
    "countries_target_df = pd.DataFrame(countries_df['Country Name'])\n",
    "countries_target_df = build_yearly_df (target_year, countries_target_df)\n",
    "display (countries_target_df.head())"
   ]
  },
  {
   "cell_type": "markdown",
   "metadata": {},
   "source": [
    "<a id='eda'></a>\n",
    "## Exploratory Data Analysis\n",
    "\n",
    "### Research Question 1 (Productivity of Geographic Regions)\n",
    "Which geographic region in the world had the most productivity in 2000? Did this change by 2016? Did any region improve its overall standing compared to other regions?"
   ]
  },
  {
   "cell_type": "code",
   "execution_count": 15,
   "metadata": {
    "collapsed": false
   },
   "outputs": [
    {
     "name": "stdout",
     "output_type": "stream",
     "text": [
      "\n",
      "Rank Geographic Regions based on Per Capita GDP for base & target years\n"
     ]
    },
    {
     "data": {
      "text/html": [
       "<div>\n",
       "<style scoped>\n",
       "    .dataframe tbody tr th:only-of-type {\n",
       "        vertical-align: middle;\n",
       "    }\n",
       "\n",
       "    .dataframe tbody tr th {\n",
       "        vertical-align: top;\n",
       "    }\n",
       "\n",
       "    .dataframe thead th {\n",
       "        text-align: right;\n",
       "    }\n",
       "</style>\n",
       "<table border=\"1\" class=\"dataframe\">\n",
       "  <thead>\n",
       "    <tr style=\"text-align: right;\">\n",
       "      <th></th>\n",
       "      <th>GroupName</th>\n",
       "      <th>Rank_2000</th>\n",
       "      <th>Rank_2016</th>\n",
       "    </tr>\n",
       "  </thead>\n",
       "  <tbody>\n",
       "    <tr>\n",
       "      <th>NAC</th>\n",
       "      <td>North America</td>\n",
       "      <td>1</td>\n",
       "      <td>1</td>\n",
       "    </tr>\n",
       "    <tr>\n",
       "      <th>ECS</th>\n",
       "      <td>Europe &amp; Central Asia</td>\n",
       "      <td>2</td>\n",
       "      <td>2</td>\n",
       "    </tr>\n",
       "    <tr>\n",
       "      <th>MEA</th>\n",
       "      <td>Middle East &amp; North Africa</td>\n",
       "      <td>3</td>\n",
       "      <td>3</td>\n",
       "    </tr>\n",
       "    <tr>\n",
       "      <th>LCN</th>\n",
       "      <td>Latin America &amp; Caribbean</td>\n",
       "      <td>4</td>\n",
       "      <td>5</td>\n",
       "    </tr>\n",
       "    <tr>\n",
       "      <th>EAS</th>\n",
       "      <td>East Asia &amp; Pacific</td>\n",
       "      <td>5</td>\n",
       "      <td>4</td>\n",
       "    </tr>\n",
       "    <tr>\n",
       "      <th>SAS</th>\n",
       "      <td>South Asia</td>\n",
       "      <td>6</td>\n",
       "      <td>6</td>\n",
       "    </tr>\n",
       "    <tr>\n",
       "      <th>SSF</th>\n",
       "      <td>Sub-Saharan Africa</td>\n",
       "      <td>7</td>\n",
       "      <td>7</td>\n",
       "    </tr>\n",
       "  </tbody>\n",
       "</table>\n",
       "</div>"
      ],
      "text/plain": [
       "                      GroupName  Rank_2000  Rank_2016\n",
       "NAC               North America          1          1\n",
       "ECS       Europe & Central Asia          2          2\n",
       "MEA  Middle East & North Africa          3          3\n",
       "LCN   Latin America & Caribbean          4          5\n",
       "EAS         East Asia & Pacific          5          4\n",
       "SAS                  South Asia          6          6\n",
       "SSF          Sub-Saharan Africa          7          7"
      ]
     },
     "metadata": {},
     "output_type": "display_data"
    },
    {
     "name": "stdout",
     "output_type": "stream",
     "text": [
      "\n",
      "Most prosperous region in 2000: North America\n",
      " .... is 2.01 std away from mean\n",
      "\n",
      "Least prosperous region in 2000: Sub-Saharan Africa\n",
      " .... is -0.83 std away from mean\n",
      "\n",
      "Most prosperous region in 2016: North America\n",
      " .... is 1.95 std away from mean\n",
      "\n",
      "Least prosperous region in 2000: Sub-Saharan Africa\n",
      " .... is -0.98 std away from mean\n"
     ]
    }
   ],
   "source": [
    "print('\\nRank Geographic Regions based on Per Capita GDP for base & target years')\n",
    "georegions_gdp_df['Rank_2000'] = georegions_gdp_df[base_year].rank(ascending=False, method='dense').astype(int)\n",
    "georegions_gdp_df['Rank_2016'] = georegions_gdp_df[target_year].rank(ascending=False, method='dense').astype(int)\n",
    "\n",
    "display(georegions_gdp_df[['GroupName', 'Rank_2000','Rank_2016']].sort_values(by='Rank_2000'))\n",
    "\n",
    "base_mean = georegions_gdp_df[base_year].mean()\n",
    "base_std = georegions_gdp_df[base_year].std()\n",
    "top_gdp = georegions_gdp_df[base_year].max()\n",
    "min_gdp = georegions_gdp_df[base_year].min()\n",
    "topper = (georegions_gdp_df.loc[georegions_gdp_df[base_year].idxmax(), 'GroupName'])\n",
    "popper = (georegions_gdp_df.loc[georegions_gdp_df[base_year].idxmin(), 'GroupName'])\n",
    "print('\\nMost prosperous region in {}: {}'.format(base_year, topper))\n",
    "print(' .... is {:.2f} std away from mean'.format ((top_gdp - base_mean)/base_std))\n",
    "print('\\nLeast prosperous region in {}: {}'.format(base_year, popper))\n",
    "print(' .... is {:.2f} std away from mean'.format ((min_gdp - base_mean)/base_std))\n",
    "\n",
    "target_mean = georegions_gdp_df[target_year].mean()\n",
    "target_std = georegions_gdp_df[target_year].std()\n",
    "min_gdp = georegions_gdp_df[target_year].min()\n",
    "top_gdp = georegions_gdp_df[target_year].max()\n",
    "topper = (georegions_gdp_df.loc[georegions_gdp_df['Rank_2016'] == 1, 'GroupName']).values[0]\n",
    "popper = (georegions_gdp_df.loc[georegions_gdp_df[target_year].idxmin(), 'GroupName'])\n",
    "print('\\nMost prosperous region in {}: {}'.format(target_year, topper))\n",
    "print(' .... is {:.2f} std away from mean'.format ((top_gdp - target_mean)/target_std))\n",
    "print('\\nLeast prosperous region in {}: {}'.format(base_year, popper))\n",
    "print(' .... is {:.2f} std away from mean'.format ((min_gdp - target_mean)/target_std))"
   ]
  },
  {
   "cell_type": "code",
   "execution_count": 16,
   "metadata": {
    "collapsed": false
   },
   "outputs": [
    {
     "name": "stdout",
     "output_type": "stream",
     "text": [
      "\n",
      "Region East Asia & Pacific  improved its rank from 5 to 4\n",
      "\t...with its Per Capita GDP increasing from USD 7,187 to USD 15,786\n",
      "\n",
      "Region Latin America & Caribbean  dropped its rank from 4 to 5\n",
      "\t...with its Per Capita GDP increasing from USD 11,337 to USD 14,321\n"
     ]
    }
   ],
   "source": [
    "def examine_rank (row):\n",
    "    rank1 = row['Rank_2000']\n",
    "    rank2 = row['Rank_2016']\n",
    "\n",
    "    if (rank1 != rank2) :\n",
    "        gdp1 = row[base_year]\n",
    "        gdp2 = row[target_year]\n",
    "        region = row['GroupName']\n",
    "        rankstr = 'improved' if (rank2 < rank1) else  'dropped'\n",
    "        valstr = 'decreasing' if (gdp2 < gdp1) else  'increasing'\n",
    "        print('\\nRegion {}  {} its rank from {:.0f} to {:.0f}'.format(region, rankstr, rank1, rank2))\n",
    "        print('\\t...with its Per Capita GDP {} from USD {:,.0f} to USD {:,.0f}'.format(valstr, gdp1, gdp2))\n",
    "    return row\n",
    "\n",
    "somevar = georegions_gdp_df.apply(examine_rank, axis=1)"
   ]
  },
  {
   "cell_type": "code",
   "execution_count": 17,
   "metadata": {
    "collapsed": false
   },
   "outputs": [
    {
     "data": {
      "image/png": "[encoded data removed]",
      "text/plain": [
       "<matplotlib.figure.Figure at 0xd34e8d0>"
      ]
     },
     "metadata": {},
     "output_type": "display_data"
    }
   ],
   "source": [
    "mgdp_regions_df = georegions_gdp_df[['GroupName', base_year, target_year]]\n",
    "mgdp_regions_df = mgdp_regions_df.set_index('GroupName').sort_index()\n",
    "\n",
    "mgdp_regions_df = mgdp_regions_df.stack().reset_index().rename(columns={'level_1': 'Year', 0: gdp_key})\n",
    "#display(mgdp_regions_df)\n",
    "\n",
    "sns.set(style=\"darkgrid\")\n",
    "ax = sns.barplot(y='GroupName', x=gdp_key, hue='Year', data=mgdp_regions_df)\n",
    "ax.set(ylabel=\"\", xlabel=\"GDP Per Capita in 21st Century\")\n",
    "for p in ax.patches:\n",
    "    val = p.get_width()\n",
    "    ax.annotate('{0:,.0f} USD'.format(val), (val * 1.03, p.get_y() + p.get_height()/2), fontsize=8)\n",
    "\n",
    "sns.despine(left=True, bottom=True)"
   ]
  },
  {
   "cell_type": "markdown",
   "metadata": {},
   "source": [
    "* It can be seen from the above that **Nort American region continues to be the most prosperous region** in the world.\n",
    "* **East Asia & Pacific region** has surpassed Latin America & Caribbean to become the 4th most prosperous region in the world even though both of them have registered increased in prosperity as measured by per capita GDP."
   ]
  },
  {
   "cell_type": "markdown",
   "metadata": {},
   "source": [
    "### Research Question 2  (Most and Least Productive Countries)\n",
    "\n",
    "Identify the Top 10 and bottom 10 countries as per Per Capita GDP for both the base and target years. What can we say about the gap between them in 2000 and 2016? Is it widening?"
   ]
  },
  {
   "cell_type": "code",
   "execution_count": 18,
   "metadata": {
    "collapsed": false
   },
   "outputs": [
    {
     "name": "stdout",
     "output_type": "stream",
     "text": [
      "\n",
      "Top Ranked Countries by Per Capita GDP for the year 2000\n"
     ]
    },
    {
     "data": {
      "text/html": [
       "<table border=\"1\" class=\"dataframe\">\n",
       "  <thead>\n",
       "    <tr style=\"text-align: right;\">\n",
       "      <th></th>\n",
       "      <th>Country Name</th>\n",
       "      <th>GDP Per Capita</th>\n",
       "    </tr>\n",
       "    <tr>\n",
       "      <th>Rank</th>\n",
       "      <th></th>\n",
       "      <th></th>\n",
       "    </tr>\n",
       "  </thead>\n",
       "  <tbody>\n",
       "    <tr>\n",
       "      <th>1</th>\n",
       "      <td>Qatar</td>\n",
       "      <td>108323</td>\n",
       "    </tr>\n",
       "    <tr>\n",
       "      <th>2</th>\n",
       "      <td>Brunei Darussalam</td>\n",
       "      <td>82049</td>\n",
       "    </tr>\n",
       "    <tr>\n",
       "      <th>3</th>\n",
       "      <td>Luxembourg</td>\n",
       "      <td>81689</td>\n",
       "    </tr>\n",
       "    <tr>\n",
       "      <th>4</th>\n",
       "      <td>Norway</td>\n",
       "      <td>58045</td>\n",
       "    </tr>\n",
       "    <tr>\n",
       "      <th>5</th>\n",
       "      <td>Singapore</td>\n",
       "      <td>51698</td>\n",
       "    </tr>\n",
       "    <tr>\n",
       "      <th>6</th>\n",
       "      <td>Switzerland</td>\n",
       "      <td>50775</td>\n",
       "    </tr>\n",
       "    <tr>\n",
       "      <th>7</th>\n",
       "      <td>Saudi Arabia</td>\n",
       "      <td>43071</td>\n",
       "    </tr>\n",
       "    <tr>\n",
       "      <th>8</th>\n",
       "      <td>Denmark</td>\n",
       "      <td>42337</td>\n",
       "    </tr>\n",
       "    <tr>\n",
       "      <th>9</th>\n",
       "      <td>Netherlands</td>\n",
       "      <td>41721</td>\n",
       "    </tr>\n",
       "    <tr>\n",
       "      <th>10</th>\n",
       "      <td>Austria</td>\n",
       "      <td>39000</td>\n",
       "    </tr>\n",
       "  </tbody>\n",
       "</table>"
      ],
      "text/plain": [
       "<IPython.core.display.HTML object>"
      ]
     },
     "metadata": {},
     "output_type": "display_data"
    },
    {
     "name": "stdout",
     "output_type": "stream",
     "text": [
      "Mean Per Capita of Top 10 Countries: 59870.80, normalized to std 2.65 \n",
      "\n",
      "Least Ranked Countries by Per Capita GDP for the year 2000\n"
     ]
    },
    {
     "data": {
      "text/html": [
       "<table border=\"1\" class=\"dataframe\">\n",
       "  <thead>\n",
       "    <tr style=\"text-align: right;\">\n",
       "      <th></th>\n",
       "      <th>Country Name</th>\n",
       "      <th>GDP Per Capita</th>\n",
       "    </tr>\n",
       "    <tr>\n",
       "      <th>Rank</th>\n",
       "      <th></th>\n",
       "      <th></th>\n",
       "    </tr>\n",
       "  </thead>\n",
       "  <tbody>\n",
       "    <tr>\n",
       "      <th>128</th>\n",
       "      <td>Uganda</td>\n",
       "      <td>1049</td>\n",
       "    </tr>\n",
       "    <tr>\n",
       "      <th>129</th>\n",
       "      <td>Chad</td>\n",
       "      <td>993</td>\n",
       "    </tr>\n",
       "    <tr>\n",
       "      <th>130</th>\n",
       "      <td>Sierra Leone</td>\n",
       "      <td>912</td>\n",
       "    </tr>\n",
       "    <tr>\n",
       "      <th>131</th>\n",
       "      <td>Malawi</td>\n",
       "      <td>865</td>\n",
       "    </tr>\n",
       "    <tr>\n",
       "      <th>132</th>\n",
       "      <td>Liberia</td>\n",
       "      <td>838</td>\n",
       "    </tr>\n",
       "    <tr>\n",
       "      <th>133</th>\n",
       "      <td>Central African Republic</td>\n",
       "      <td>819</td>\n",
       "    </tr>\n",
       "    <tr>\n",
       "      <th>134</th>\n",
       "      <td>Burundi</td>\n",
       "      <td>754</td>\n",
       "    </tr>\n",
       "    <tr>\n",
       "      <th>135</th>\n",
       "      <td>Ethiopia</td>\n",
       "      <td>618</td>\n",
       "    </tr>\n",
       "    <tr>\n",
       "      <th>136</th>\n",
       "      <td>Mozambique</td>\n",
       "      <td>561</td>\n",
       "    </tr>\n",
       "    <tr>\n",
       "      <th>137</th>\n",
       "      <td>Congo, Dem. Rep.</td>\n",
       "      <td>529</td>\n",
       "    </tr>\n",
       "  </tbody>\n",
       "</table>"
      ],
      "text/plain": [
       "<IPython.core.display.HTML object>"
      ]
     },
     "metadata": {},
     "output_type": "display_data"
    },
    {
     "name": "stdout",
     "output_type": "stream",
     "text": [
      "Mean Per Capita of Bottom 10 Countries: 793.80, normalized to std -0.76 \n",
      "\n",
      "Top Ranked Countries by Per Capita GDP for the year 2016\n"
     ]
    },
    {
     "data": {
      "text/html": [
       "<table border=\"1\" class=\"dataframe\">\n",
       "  <thead>\n",
       "    <tr style=\"text-align: right;\">\n",
       "      <th></th>\n",
       "      <th>Country Name</th>\n",
       "      <th>GDP Per Capita</th>\n",
       "    </tr>\n",
       "    <tr>\n",
       "      <th>Rank</th>\n",
       "      <th></th>\n",
       "      <th></th>\n",
       "    </tr>\n",
       "  </thead>\n",
       "  <tbody>\n",
       "    <tr>\n",
       "      <th>1</th>\n",
       "      <td>Qatar</td>\n",
       "      <td>118207</td>\n",
       "    </tr>\n",
       "    <tr>\n",
       "      <th>2</th>\n",
       "      <td>Luxembourg</td>\n",
       "      <td>94764</td>\n",
       "    </tr>\n",
       "    <tr>\n",
       "      <th>3</th>\n",
       "      <td>Singapore</td>\n",
       "      <td>81443</td>\n",
       "    </tr>\n",
       "    <tr>\n",
       "      <th>4</th>\n",
       "      <td>Brunei Darussalam</td>\n",
       "      <td>71788</td>\n",
       "    </tr>\n",
       "    <tr>\n",
       "      <th>5</th>\n",
       "      <td>Norway</td>\n",
       "      <td>64179</td>\n",
       "    </tr>\n",
       "    <tr>\n",
       "      <th>6</th>\n",
       "      <td>Ireland</td>\n",
       "      <td>62991</td>\n",
       "    </tr>\n",
       "    <tr>\n",
       "      <th>7</th>\n",
       "      <td>Switzerland</td>\n",
       "      <td>57430</td>\n",
       "    </tr>\n",
       "    <tr>\n",
       "      <th>8</th>\n",
       "      <td>Hong Kong SAR, China</td>\n",
       "      <td>54279</td>\n",
       "    </tr>\n",
       "    <tr>\n",
       "      <th>9</th>\n",
       "      <td>Saudi Arabia</td>\n",
       "      <td>50458</td>\n",
       "    </tr>\n",
       "    <tr>\n",
       "      <th>10</th>\n",
       "      <td>Netherlands</td>\n",
       "      <td>47302</td>\n",
       "    </tr>\n",
       "  </tbody>\n",
       "</table>"
      ],
      "text/plain": [
       "<IPython.core.display.HTML object>"
      ]
     },
     "metadata": {},
     "output_type": "display_data"
    },
    {
     "name": "stdout",
     "output_type": "stream",
     "text": [
      "Mean Per Capita of Top 10 Countries: 70284.10, normalized to std 2.64 \n",
      "\n",
      "Least Ranked Countries by Per Capita GDP for the year 2016\n"
     ]
    },
    {
     "data": {
      "text/html": [
       "<table border=\"1\" class=\"dataframe\">\n",
       "  <thead>\n",
       "    <tr style=\"text-align: right;\">\n",
       "      <th></th>\n",
       "      <th>Country Name</th>\n",
       "      <th>GDP Per Capita</th>\n",
       "    </tr>\n",
       "    <tr>\n",
       "      <th>Rank</th>\n",
       "      <th></th>\n",
       "      <th></th>\n",
       "    </tr>\n",
       "  </thead>\n",
       "  <tbody>\n",
       "    <tr>\n",
       "      <th>128</th>\n",
       "      <td>Guinea-Bissau</td>\n",
       "      <td>1491</td>\n",
       "    </tr>\n",
       "    <tr>\n",
       "      <th>129</th>\n",
       "      <td>Madagascar</td>\n",
       "      <td>1396</td>\n",
       "    </tr>\n",
       "    <tr>\n",
       "      <th>130</th>\n",
       "      <td>Togo</td>\n",
       "      <td>1382</td>\n",
       "    </tr>\n",
       "    <tr>\n",
       "      <th>131</th>\n",
       "      <td>Sierra Leone</td>\n",
       "      <td>1368</td>\n",
       "    </tr>\n",
       "    <tr>\n",
       "      <th>132</th>\n",
       "      <td>Mozambique</td>\n",
       "      <td>1128</td>\n",
       "    </tr>\n",
       "    <tr>\n",
       "      <th>133</th>\n",
       "      <td>Malawi</td>\n",
       "      <td>1083</td>\n",
       "    </tr>\n",
       "    <tr>\n",
       "      <th>134</th>\n",
       "      <td>Liberia</td>\n",
       "      <td>753</td>\n",
       "    </tr>\n",
       "    <tr>\n",
       "      <th>135</th>\n",
       "      <td>Congo, Dem. Rep.</td>\n",
       "      <td>743</td>\n",
       "    </tr>\n",
       "    <tr>\n",
       "      <th>136</th>\n",
       "      <td>Burundi</td>\n",
       "      <td>721</td>\n",
       "    </tr>\n",
       "    <tr>\n",
       "      <th>137</th>\n",
       "      <td>Central African Republic</td>\n",
       "      <td>647</td>\n",
       "    </tr>\n",
       "  </tbody>\n",
       "</table>"
      ],
      "text/plain": [
       "<IPython.core.display.HTML object>"
      ]
     },
     "metadata": {},
     "output_type": "display_data"
    },
    {
     "name": "stdout",
     "output_type": "stream",
     "text": [
      "Mean Per Capita of Bottom 10 Countries: 1071.20, normalized to std -0.90 \n"
     ]
    }
   ],
   "source": [
    "gdp_col = 'GDP Per Capita'\n",
    "def print_gdp_df (df, dfsel) :\n",
    "    print_df = df[dfsel].sort_values(by='Rank')[['Rank', 'Country Name', gdp_key]]\n",
    "    print_df.reset_index (inplace = True)\n",
    "    print_df.drop('Country Code', axis=1, inplace=True)\n",
    "    print_df.set_index('Rank', inplace=True)\n",
    "    display(HTML(print_df.to_html()))\n",
    "    return\n",
    "\n",
    "def report_ranks (df, count, year) :\n",
    "    last_rank = df['Rank'].max()\n",
    "    df_mean = df[gdp_col].mean()\n",
    "    df_std = df[gdp_col].std()\n",
    "    \n",
    "    print('\\nTop Ranked Countries by Per Capita GDP for the year {}'.format(year))\n",
    "    dfsel = (df['Rank'] <= count)\n",
    "    print_gdp_df (df, dfsel)\n",
    "    top_mean = df[dfsel][gdp_col].mean()\n",
    "    top_std = (top_mean - df_mean)/ df_std\n",
    "    print('Mean Per Capita of Top 10 Countries: {:.2f}, normalized to std {:.2f} '.format(top_mean, top_std))\n",
    "    \n",
    "    print('\\nLeast Ranked Countries by Per Capita GDP for the year {}'.format(year))\n",
    "    dfsel = (df['Rank'] > (last_rank - count))\n",
    "    btm_mean = df[dfsel][gdp_col].mean()\n",
    "    btm_std = (btm_mean - df_mean)/ df_std\n",
    "    print_gdp_df (df, dfsel)\n",
    "    print('Mean Per Capita of Bottom 10 Countries: {:.2f}, normalized to std {:.2f} '.format(btm_mean, btm_std))\n",
    "    return\n",
    "\n",
    "countries_base_df['Rank'] = countries_base_df[gdp_key].rank(method='dense', ascending=False).astype('int32')\n",
    "report_ranks(countries_base_df, 10, base_year)\n",
    "\n",
    "countries_target_df['Rank'] = countries_target_df[gdp_key].rank(method='dense', ascending=False).astype('int32')\n",
    "report_ranks(countries_target_df, 10, target_year)"
   ]
  },
  {
   "cell_type": "markdown",
   "metadata": {},
   "source": [
    "- From the above output, we can infer:\n",
    "    - the top 10 rich countries continue to be at the same level ~2.6 std from the mean\n",
    "    - the bottom 10 poor countries slip from -0.77 std to -0.9 std from the mean.\n",
    "We can therefore conclude that the **gap between rich & poor countries has indeed widened in the period from 2000 to 2016**.\n",
    "\n",
    "- We see that **8 out of top 10** countries and **8 out of bottom 10** countries remain in the list.  \n",
    "\n",
    "- Even with increased per capita GDP, some countries have reduced in their standings (as other countries have surpassed them). This leads to the questions:\n",
    "    - How many countries actually increased their per capita GDP?\n",
    "    - How many countries experienced a decrease in their per capita GDP?\n",
    "    - Are there countries that grew better than others? That is, how many countries improved their relative standing (when ranked by per capita) and how many countries experienced a dip in their standing?"
   ]
  },
  {
   "cell_type": "code",
   "execution_count": 19,
   "metadata": {
    "collapsed": false
   },
   "outputs": [
    {
     "name": "stdout",
     "output_type": "stream",
     "text": [
      "\n",
      "GDP Per Capita growth Mean: 4617.12, std: 5143.93\n"
     ]
    }
   ],
   "source": [
    "rank_base = 'Rank_2000'\n",
    "rank_target = 'Rank_2016'\n",
    "rank_jump = 'Rank_Jump'\n",
    "rank_change = 'Rank_Change'\n",
    "count = countries_df.shape[0]\n",
    "\n",
    "country_changes_df = pd.DataFrame(countries_base_df[['Country Name']])\n",
    "country_changes_df[gdp_key] = countries_target_df[gdp_key] - countries_base_df[gdp_key]\n",
    "country_changes_df[rank_base] = countries_base_df['Rank']\n",
    "country_changes_df[rank_target] = countries_target_df['Rank']\n",
    "country_changes_df[rank_jump] = (countries_base_df['Rank'] - countries_target_df['Rank'])\n",
    "country_changes_df.astype( { rank_jump : 'int32' })\n",
    "#country_changes_df[rank_change] = pd.cut(country_changes_df[rank_jump], [-1.0 * count,0,1, count], right=False, labels=[\"drop\", \"nochange\", \"improve\"])\n",
    "\n",
    "gdp_growth_mean = country_changes_df[gdp_key].mean()\n",
    "gdp_growth_std = country_changes_df[gdp_key].std(ddof=0)\n",
    "print('\\nGDP Per Capita growth Mean: {:.2f}, std: {:.2f}'.format(gdp_growth_mean, gdp_growth_std))"
   ]
  },
  {
   "cell_type": "code",
   "execution_count": 20,
   "metadata": {
    "collapsed": false
   },
   "outputs": [
    {
     "name": "stdout",
     "output_type": "stream",
     "text": [
      "\n",
      "No of countries that reported increase in per capita GDP: 127, mean: 5139.90, std: 0.10\n"
     ]
    }
   ],
   "source": [
    "dfg = country_changes_df[country_changes_df[gdp_key] > 0]\n",
    "num_gdp_increases = dfg[gdp_key].count()\n",
    "increases_mean = dfg[gdp_key].mean()\n",
    "increases_std = (increases_mean - gdp_growth_mean) / gdp_growth_std\n",
    "print('\\nNo of countries that reported increase in per capita GDP: {}, mean: {:.2f}, std: {:.2f}'.format(num_gdp_increases, increases_mean, increases_std))"
   ]
  },
  {
   "cell_type": "code",
   "execution_count": 21,
   "metadata": {
    "collapsed": false
   },
   "outputs": [
    {
     "name": "stdout",
     "output_type": "stream",
     "text": [
      "No of countries that reported decrease in per capita GDP: 10, mean: -2022.20, std: -1.29\n"
     ]
    }
   ],
   "source": [
    "dfg = country_changes_df[country_changes_df[gdp_key] < 0]\n",
    "num_gdp_decreases = dfg[gdp_key].count()\n",
    "decreases_mean = dfg[gdp_key].mean()\n",
    "decreases_std = (decreases_mean - gdp_growth_mean) / gdp_growth_std\n",
    "print('No of countries that reported decrease in per capita GDP: {}, mean: {:.2f}, std: {:.2f}'.format(num_gdp_decreases, decreases_mean, decreases_std))"
   ]
  },
  {
   "cell_type": "code",
   "execution_count": 22,
   "metadata": {
    "collapsed": false
   },
   "outputs": [
    {
     "name": "stdout",
     "output_type": "stream",
     "text": [
      "No of countries that reported improvement in their standings: 56, mean: 7820.04, std: 0.62\n"
     ]
    }
   ],
   "source": [
    "dfg = country_changes_df[country_changes_df[rank_jump] > 0]\n",
    "num_rank_improves = dfg[gdp_key].count()\n",
    "improvement_mean = dfg[gdp_key].mean()\n",
    "improvement_std = (improvement_mean - gdp_growth_mean) / gdp_growth_std\n",
    "print('No of countries that reported improvement in their standings: {}, mean: {:.2f}, std: {:.2f}'.format(num_rank_improves, improvement_mean, improvement_std))"
   ]
  },
  {
   "cell_type": "markdown",
   "metadata": {},
   "source": [
    "Even though 127 countries managed to increase their productivity, 56 of them improved their relative standing by doing better than their counterparts. The mean GDP growth of these 56 is 0.62 standard deviations above the mean."
   ]
  },
  {
   "cell_type": "code",
   "execution_count": 23,
   "metadata": {
    "collapsed": false
   },
   "outputs": [
    {
     "name": "stdout",
     "output_type": "stream",
     "text": [
      "No of countries that reported drop in their standings: 75, mean: 2155.39, std: -0.48\n"
     ]
    }
   ],
   "source": [
    "dfg = country_changes_df[country_changes_df[rank_jump] < 0]\n",
    "num_rank_drops = dfg[gdp_key].count()\n",
    "drop_mean = dfg[gdp_key].mean()\n",
    "drop_std = (drop_mean - gdp_growth_mean) / gdp_growth_std\n",
    "print('No of countries that reported drop in their standings: {}, mean: {:.2f}, std: {:.2f}'.format(num_rank_drops, drop_mean, drop_std))"
   ]
  },
  {
   "cell_type": "code",
   "execution_count": 24,
   "metadata": {
    "collapsed": false
   },
   "outputs": [
    {
     "name": "stdout",
     "output_type": "stream",
     "text": [
      "No of countries that reported no change in their standings: 6, mean: 5494.83, std: 0.17\n"
     ]
    }
   ],
   "source": [
    "dfg = country_changes_df[country_changes_df[rank_jump] == 0]\n",
    "num_rank_unchanged = dfg[gdp_key].count()\n",
    "unchange_mean = dfg[gdp_key].mean()\n",
    "unchange_std = (unchange_mean - gdp_growth_mean) / gdp_growth_std\n",
    "print('No of countries that reported no change in their standings: {}, mean: {:.2f}, std: {:.2f}'.format(num_rank_unchanged, unchange_mean, unchange_std))"
   ]
  },
  {
   "cell_type": "markdown",
   "metadata": {},
   "source": [
    "It should be noted that 75 countries  dropped in their standings with their mean growth below the overall mean GDP growth. While the few that retained their standings have mean GDP growth above the overall mean but below the mean of countries that reported improvement in standings."
   ]
  },
  {
   "cell_type": "markdown",
   "metadata": {},
   "source": [
    "### Research Question 3  (Correlation Analysis)\n",
    "\n",
    "- Is the productivity of a country is correlated with levels of Urbanization & prevalence of Agriculture?\n",
    "- Are atmospheric CO2 emissions correlated with the productivity levels?"
   ]
  },
  {
   "cell_type": "code",
   "execution_count": 25,
   "metadata": {
    "collapsed": false
   },
   "outputs": [
    {
     "name": "stdout",
     "output_type": "stream",
     "text": [
      "Pearson Correlation for Indicators (2000)\n"
     ]
    },
    {
     "data": {
      "text/html": [
       "<div>\n",
       "<style scoped>\n",
       "    .dataframe tbody tr th:only-of-type {\n",
       "        vertical-align: middle;\n",
       "    }\n",
       "\n",
       "    .dataframe tbody tr th {\n",
       "        vertical-align: top;\n",
       "    }\n",
       "\n",
       "    .dataframe thead th {\n",
       "        text-align: right;\n",
       "    }\n",
       "</style>\n",
       "<table border=\"1\" class=\"dataframe\">\n",
       "  <thead>\n",
       "    <tr style=\"text-align: right;\">\n",
       "      <th></th>\n",
       "      <th>Agri GDP</th>\n",
       "      <th>CO2 Emission</th>\n",
       "      <th>GDP Per Capita</th>\n",
       "      <th>% Urbanization</th>\n",
       "    </tr>\n",
       "  </thead>\n",
       "  <tbody>\n",
       "    <tr>\n",
       "      <th>Agri GDP</th>\n",
       "      <td>1</td>\n",
       "      <td>-0.472356</td>\n",
       "      <td>-0.568627</td>\n",
       "      <td>-0.659725</td>\n",
       "    </tr>\n",
       "    <tr>\n",
       "      <th>CO2 Emission</th>\n",
       "      <td>-0.472356</td>\n",
       "      <td>1</td>\n",
       "      <td>0.821014</td>\n",
       "      <td>0.512987</td>\n",
       "    </tr>\n",
       "    <tr>\n",
       "      <th>GDP Per Capita</th>\n",
       "      <td>-0.568627</td>\n",
       "      <td>0.821014</td>\n",
       "      <td>1</td>\n",
       "      <td>0.625978</td>\n",
       "    </tr>\n",
       "    <tr>\n",
       "      <th>% Urbanization</th>\n",
       "      <td>-0.659725</td>\n",
       "      <td>0.512987</td>\n",
       "      <td>0.625978</td>\n",
       "      <td>1</td>\n",
       "    </tr>\n",
       "  </tbody>\n",
       "</table>\n",
       "</div>"
      ],
      "text/plain": [
       "                Agri GDP CO2 Emission GDP Per Capita % Urbanization\n",
       "Agri GDP               1    -0.472356      -0.568627      -0.659725\n",
       "CO2 Emission   -0.472356            1       0.821014       0.512987\n",
       "GDP Per Capita -0.568627     0.821014              1       0.625978\n",
       "% Urbanization -0.659725     0.512987       0.625978              1"
      ]
     },
     "metadata": {},
     "output_type": "display_data"
    },
    {
     "name": "stdout",
     "output_type": "stream",
     "text": [
      "\n",
      "Pearson Correlation for Indicators (2016)\n"
     ]
    },
    {
     "data": {
      "text/html": [
       "<div>\n",
       "<style scoped>\n",
       "    .dataframe tbody tr th:only-of-type {\n",
       "        vertical-align: middle;\n",
       "    }\n",
       "\n",
       "    .dataframe tbody tr th {\n",
       "        vertical-align: top;\n",
       "    }\n",
       "\n",
       "    .dataframe thead th {\n",
       "        text-align: right;\n",
       "    }\n",
       "</style>\n",
       "<table border=\"1\" class=\"dataframe\">\n",
       "  <thead>\n",
       "    <tr style=\"text-align: right;\">\n",
       "      <th></th>\n",
       "      <th>Agri GDP</th>\n",
       "      <th>CO2 Emission</th>\n",
       "      <th>GDP Per Capita</th>\n",
       "      <th>% Urbanization</th>\n",
       "    </tr>\n",
       "  </thead>\n",
       "  <tbody>\n",
       "    <tr>\n",
       "      <th>Agri GDP</th>\n",
       "      <td>1</td>\n",
       "      <td>-0.471401</td>\n",
       "      <td>-0.593579</td>\n",
       "      <td>-0.585331</td>\n",
       "    </tr>\n",
       "    <tr>\n",
       "      <th>CO2 Emission</th>\n",
       "      <td>-0.471401</td>\n",
       "      <td>1</td>\n",
       "      <td>0.75814</td>\n",
       "      <td>0.401141</td>\n",
       "    </tr>\n",
       "    <tr>\n",
       "      <th>GDP Per Capita</th>\n",
       "      <td>-0.593579</td>\n",
       "      <td>0.75814</td>\n",
       "      <td>1</td>\n",
       "      <td>0.620484</td>\n",
       "    </tr>\n",
       "    <tr>\n",
       "      <th>% Urbanization</th>\n",
       "      <td>-0.585331</td>\n",
       "      <td>0.401141</td>\n",
       "      <td>0.620484</td>\n",
       "      <td>1</td>\n",
       "    </tr>\n",
       "  </tbody>\n",
       "</table>\n",
       "</div>"
      ],
      "text/plain": [
       "                Agri GDP CO2 Emission GDP Per Capita % Urbanization\n",
       "Agri GDP               1    -0.471401      -0.593579      -0.585331\n",
       "CO2 Emission   -0.471401            1        0.75814       0.401141\n",
       "GDP Per Capita -0.593579      0.75814              1       0.620484\n",
       "% Urbanization -0.585331     0.401141       0.620484              1"
      ]
     },
     "metadata": {},
     "output_type": "display_data"
    }
   ],
   "source": [
    "def correlation(x, y):\n",
    "    '''Each input is either a NumPy array or a Pandas Series.\n",
    "      correlation = average of (x in standard units) times (y in standard units)\n",
    "    '''\n",
    "    norm_x = (x - x.mean()) / x.std(ddof=0)\n",
    "    norm_y = (y - y.mean()) / y.std(ddof=0)\n",
    "    pearson_r = (norm_x * norm_y).mean()\n",
    "    return pearson_r\n",
    "\n",
    "def calc_corrs (datadf, cols) :\n",
    "    corr_df = pd.DataFrame(index=cols, columns=cols)\n",
    "\n",
    "    # We need to use loops as apply/applymap do not provide us with the row/col names \n",
    "    # in an easily retrievable way\n",
    "    for r in cols:\n",
    "        for c in cols:\n",
    "            if pd.notna(corr_df.loc[c,r]) :\n",
    "                corr_df.loc[r,c] = corr_df.loc[c,r]\n",
    "            elif pd.isna(corr_df.loc[r,c]) :\n",
    "                corr_df.loc[r,c] = correlation (datadf[r], datadf[c])\n",
    "    return corr_df\n",
    "\n",
    "cols = [ agr_key, co2_key, gdp_key, urb_key]\n",
    "\n",
    "\n",
    "print('Pearson Correlation for Indicators ({})'.format(base_year))\n",
    "base_corrs = calc_corrs(countries_base_df, cols)\n",
    "display(base_corrs)\n",
    "\n",
    "print('\\nPearson Correlation for Indicators ({})'.format(target_year))\n",
    "target_corrs = calc_corrs(countries_target_df, cols)\n",
    "display(target_corrs)"
   ]
  },
  {
   "cell_type": "code",
   "execution_count": 26,
   "metadata": {
    "collapsed": false
   },
   "outputs": [
    {
     "name": "stdout",
     "output_type": "stream",
     "text": [
      "Pearson Correlation for Indicators (2000)\n"
     ]
    },
    {
     "data": {
      "text/html": [
       "<div>\n",
       "<style scoped>\n",
       "    .dataframe tbody tr th:only-of-type {\n",
       "        vertical-align: middle;\n",
       "    }\n",
       "\n",
       "    .dataframe tbody tr th {\n",
       "        vertical-align: top;\n",
       "    }\n",
       "\n",
       "    .dataframe thead th {\n",
       "        text-align: right;\n",
       "    }\n",
       "</style>\n",
       "<table border=\"1\" class=\"dataframe\">\n",
       "  <thead>\n",
       "    <tr style=\"text-align: right;\">\n",
       "      <th></th>\n",
       "      <th>Agri GDP</th>\n",
       "      <th>CO2 Emission</th>\n",
       "      <th>GDP Per Capita</th>\n",
       "      <th>% Urbanization</th>\n",
       "    </tr>\n",
       "  </thead>\n",
       "  <tbody>\n",
       "    <tr>\n",
       "      <th>Agri GDP</th>\n",
       "      <td>1.000000</td>\n",
       "      <td>-0.472356</td>\n",
       "      <td>-0.568627</td>\n",
       "      <td>-0.659725</td>\n",
       "    </tr>\n",
       "    <tr>\n",
       "      <th>CO2 Emission</th>\n",
       "      <td>-0.472356</td>\n",
       "      <td>1.000000</td>\n",
       "      <td>0.821014</td>\n",
       "      <td>0.512987</td>\n",
       "    </tr>\n",
       "    <tr>\n",
       "      <th>GDP Per Capita</th>\n",
       "      <td>-0.568627</td>\n",
       "      <td>0.821014</td>\n",
       "      <td>1.000000</td>\n",
       "      <td>0.625978</td>\n",
       "    </tr>\n",
       "    <tr>\n",
       "      <th>% Urbanization</th>\n",
       "      <td>-0.659725</td>\n",
       "      <td>0.512987</td>\n",
       "      <td>0.625978</td>\n",
       "      <td>1.000000</td>\n",
       "    </tr>\n",
       "  </tbody>\n",
       "</table>\n",
       "</div>"
      ],
      "text/plain": [
       "                Agri GDP  CO2 Emission  GDP Per Capita  % Urbanization\n",
       "Agri GDP        1.000000     -0.472356       -0.568627       -0.659725\n",
       "CO2 Emission   -0.472356      1.000000        0.821014        0.512987\n",
       "GDP Per Capita -0.568627      0.821014        1.000000        0.625978\n",
       "% Urbanization -0.659725      0.512987        0.625978        1.000000"
      ]
     },
     "metadata": {},
     "output_type": "display_data"
    },
    {
     "name": "stdout",
     "output_type": "stream",
     "text": [
      "\n",
      "Pearson Correlation for Indicators (2016)\n"
     ]
    },
    {
     "data": {
      "text/html": [
       "<div>\n",
       "<style scoped>\n",
       "    .dataframe tbody tr th:only-of-type {\n",
       "        vertical-align: middle;\n",
       "    }\n",
       "\n",
       "    .dataframe tbody tr th {\n",
       "        vertical-align: top;\n",
       "    }\n",
       "\n",
       "    .dataframe thead th {\n",
       "        text-align: right;\n",
       "    }\n",
       "</style>\n",
       "<table border=\"1\" class=\"dataframe\">\n",
       "  <thead>\n",
       "    <tr style=\"text-align: right;\">\n",
       "      <th></th>\n",
       "      <th>Agri GDP</th>\n",
       "      <th>CO2 Emission</th>\n",
       "      <th>GDP Per Capita</th>\n",
       "      <th>% Urbanization</th>\n",
       "    </tr>\n",
       "  </thead>\n",
       "  <tbody>\n",
       "    <tr>\n",
       "      <th>Agri GDP</th>\n",
       "      <td>1.000000</td>\n",
       "      <td>-0.471401</td>\n",
       "      <td>-0.593579</td>\n",
       "      <td>-0.585331</td>\n",
       "    </tr>\n",
       "    <tr>\n",
       "      <th>CO2 Emission</th>\n",
       "      <td>-0.471401</td>\n",
       "      <td>1.000000</td>\n",
       "      <td>0.758140</td>\n",
       "      <td>0.401141</td>\n",
       "    </tr>\n",
       "    <tr>\n",
       "      <th>GDP Per Capita</th>\n",
       "      <td>-0.593579</td>\n",
       "      <td>0.758140</td>\n",
       "      <td>1.000000</td>\n",
       "      <td>0.620484</td>\n",
       "    </tr>\n",
       "    <tr>\n",
       "      <th>% Urbanization</th>\n",
       "      <td>-0.585331</td>\n",
       "      <td>0.401141</td>\n",
       "      <td>0.620484</td>\n",
       "      <td>1.000000</td>\n",
       "    </tr>\n",
       "  </tbody>\n",
       "</table>\n",
       "</div>"
      ],
      "text/plain": [
       "                Agri GDP  CO2 Emission  GDP Per Capita  % Urbanization\n",
       "Agri GDP        1.000000     -0.471401       -0.593579       -0.585331\n",
       "CO2 Emission   -0.471401      1.000000        0.758140        0.401141\n",
       "GDP Per Capita -0.593579      0.758140        1.000000        0.620484\n",
       "% Urbanization -0.585331      0.401141        0.620484        1.000000"
      ]
     },
     "metadata": {},
     "output_type": "display_data"
    }
   ],
   "source": [
    "print('Pearson Correlation for Indicators ({})'.format(base_year))\n",
    "display(countries_base_df[[agr_key, co2_key, gdp_key, urb_key]].corr(method='pearson'))\n",
    "\n",
    "print('\\nPearson Correlation for Indicators ({})'.format(target_year))\n",
    "display(countries_target_df[[agr_key, co2_key, gdp_key, urb_key]].corr(method='pearson'))"
   ]
  },
  {
   "cell_type": "markdown",
   "metadata": {},
   "source": [
    "From the above correlation data, we can infer:\n",
    "- Agriculture GDP & CO2 are negatively correlated (intuitively makes sense since agriculture does not consume as much as energy and therefore as much emissions as industrialization).\n",
    "- Agriculture GDP & GDP Per Capita are negatively correlated (makes sense as society is getting more industrialized & technology driven)\n",
    "- GDP Per Capita & % Urbanization are positively correlated (perhaps because new age industries are clustered in urban areas)\n",
    "- GDP Per Capita & CO2 Emission are strongly correlated (understandable due to increased usage of fossil fuel and thereby increased emissions for higher levels of output)\n",
    "- % Urbanization & CO2 emission are somewhat positively correlated (perhaps due to increased transport & energy consumptions in urban areas)\n",
    "- % Urbanization & Agriculture GDP are negatively correlated (Agriculture is predominantly rural driven activity)\n",
    "\n",
    "While we have tried to make sense of the correlations, the exact cause-effect analysis are beyond the scope of this study. \n",
    "\n",
    "The correlations seen in 2000 data and the correlations seen in 2016 data are not directionally different but the strength of correlation coefficient have changed from 2000 to 2016. This may require deeper analysis with more data points (such as has more eneregy from renewable sources led to reduction in growth of emissions?) which is beyond the scope of this study."
   ]
  },
  {
   "cell_type": "markdown",
   "metadata": {},
   "source": [
    "Let us now visualize the correlations using seaborn."
   ]
  },
  {
   "cell_type": "code",
   "execution_count": 27,
   "metadata": {
    "collapsed": false
   },
   "outputs": [],
   "source": [
    "def print_gdp_co2 (df, year):\n",
    "    grid = sns.JointGrid(x=gdp_key, y=co2_key, data=df, xlim=(0,50000), ylim=(0,16))\n",
    "    grid.plot_joint(plt.scatter, color=\"g\")\n",
    "    grid.plot_marginals(sns.rugplot, height=1, color=\"g\")\n",
    "    grid.annotate(stats.pearsonr)\n",
    "    grid.set_axis_labels('{} ({})'.format(gdp_key, year), '{} ({})'.format(co2_key, year))\n",
    "    return"
   ]
  },
  {
   "cell_type": "code",
   "execution_count": 28,
   "metadata": {
    "collapsed": false
   },
   "outputs": [
    {
     "data": {
      "image/png": "[encoded data removed]",
      "text/plain": [
       "<matplotlib.figure.Figure at 0xd34e048>"
      ]
     },
     "metadata": {},
     "output_type": "display_data"
    }
   ],
   "source": [
    "print_gdp_co2(countries_base_df, base_year)"
   ]
  },
  {
   "cell_type": "code",
   "execution_count": 29,
   "metadata": {
    "collapsed": false
   },
   "outputs": [
    {
     "data": {
      "image/png": "[encoded data removed]",
      "text/plain": [
       "<matplotlib.figure.Figure at 0xe8b2320>"
      ]
     },
     "metadata": {},
     "output_type": "display_data"
    }
   ],
   "source": [
    "print_gdp_co2 (countries_target_df, target_year)"
   ]
  },
  {
   "cell_type": "code",
   "execution_count": 30,
   "metadata": {
    "collapsed": false
   },
   "outputs": [
    {
     "data": {
      "text/plain": [
       "<seaborn.axisgrid.JointGrid at 0xde38780>"
      ]
     },
     "execution_count": 30,
     "metadata": {},
     "output_type": "execute_result"
    },
    {
     "data": {
      "image/png": "[encoded data removed]",
      "text/plain": [
       "<matplotlib.figure.Figure at 0xde387f0>"
      ]
     },
     "metadata": {},
     "output_type": "display_data"
    }
   ],
   "source": [
    "grid = sns.JointGrid(x=urb_key, y=gdp_key, data=countries_base_df, ylim=(0,50000))\n",
    "grid.plot_joint(plt.scatter, color=\"g\")\n",
    "grid.plot_marginals(sns.rugplot, height=1, color=\"g\")\n",
    "grid.annotate(stats.pearsonr)\n",
    "grid.set_axis_labels('{} ({})'.format(urb_key, base_year), '{} ({})'.format(gdp_key, base_year))"
   ]
  },
  {
   "cell_type": "code",
   "execution_count": 31,
   "metadata": {
    "collapsed": false
   },
   "outputs": [
    {
     "data": {
      "text/plain": [
       "<seaborn.axisgrid.JointGrid at 0xdc7f9b0>"
      ]
     },
     "execution_count": 31,
     "metadata": {},
     "output_type": "execute_result"
    },
    {
     "data": {
      "image/png": "[encoded data removed]",
      "text/plain": [
       "<matplotlib.figure.Figure at 0xdc7fa20>"
      ]
     },
     "metadata": {},
     "output_type": "display_data"
    }
   ],
   "source": [
    "grid = sns.JointGrid(x=urb_key, y=gdp_key, data=countries_target_df, ylim=(0,50000))\n",
    "grid.plot_joint(plt.scatter, color=\"g\")\n",
    "grid.plot_marginals(sns.rugplot, height=1, color=\"g\")\n",
    "grid.annotate(stats.pearsonr)\n",
    "grid.set_axis_labels('{} ({})'.format(urb_key, target_year), '{} ({})'.format(gdp_key, target_year))"
   ]
  },
  {
   "cell_type": "code",
   "execution_count": 32,
   "metadata": {
    "collapsed": false
   },
   "outputs": [
    {
     "data": {
      "text/plain": [
       "<seaborn.axisgrid.JointGrid at 0xea7b828>"
      ]
     },
     "execution_count": 32,
     "metadata": {},
     "output_type": "execute_result"
    },
    {
     "data": {
      "image/png": "[encoded data removed]",
      "text/plain": [
       "<matplotlib.figure.Figure at 0xea7b898>"
      ]
     },
     "metadata": {},
     "output_type": "display_data"
    }
   ],
   "source": [
    "grid = sns.JointGrid(x=agr_key, y=gdp_key, data=countries_base_df, ylim=(0,50000))\n",
    "grid.plot_joint(plt.scatter, color=\"g\")\n",
    "grid.plot_marginals(sns.rugplot, height=1, color=\"g\")\n",
    "grid.annotate(stats.pearsonr)\n",
    "grid.set_axis_labels('{} ({})'.format(agr_key, base_year), '{} ({})'.format(gdp_key, base_year))"
   ]
  },
  {
   "cell_type": "code",
   "execution_count": 33,
   "metadata": {
    "collapsed": false
   },
   "outputs": [
    {
     "data": {
      "text/plain": [
       "<seaborn.axisgrid.JointGrid at 0xfdafa58>"
      ]
     },
     "execution_count": 33,
     "metadata": {},
     "output_type": "execute_result"
    },
    {
     "data": {
      "image/png": "[encoded data removed]",
      "text/plain": [
       "<matplotlib.figure.Figure at 0xfdafac8>"
      ]
     },
     "metadata": {},
     "output_type": "display_data"
    }
   ],
   "source": [
    "grid = sns.JointGrid(x=agr_key, y=gdp_key, data=countries_target_df, ylim=(0,50000))\n",
    "grid.plot_joint(plt.scatter, color=\"g\")\n",
    "grid.plot_marginals(sns.rugplot, height=1, color=\"g\")\n",
    "grid.annotate(stats.pearsonr)\n",
    "grid.set_axis_labels('{} ({})'.format(agr_key, target_year), '{} ({})'.format(gdp_key, target_year))"
   ]
  },
  {
   "cell_type": "markdown",
   "metadata": {},
   "source": [
    "<a id='conclusions'></a>\n",
    "## Conclusions\n",
    "\n",
    "In this project, we analyzed global development indicators made available by World Bank. We looked at GDP Per Capita data for the major geographic regions of the world and found that North America continues to be the region with highest per capita GDP while East Asia & Pacific improved its standing from 5 to 4. We found that while majority of the coutries registered increase in per capita GDP, 56 of them improved their standing by growing ahead of their peers. We found that there is a positive correlation of  GDP Per Capita with % Urbanization, CO2 Emission while GDP Per Capita & Agri GDP are negatively correlated. Suggestions for future study: analyze the change in correlation coefficients from 2000 to 2016; explore correlation between GDP Per Capita and other human development indicators such as longevity, education levels, industrialization etc., \n"
   ]
  }
 ],
 "metadata": {
  "anaconda-cloud": {},
  "kernelspec": {
   "display_name": "Python 2",
   "language": "python",
   "name": "python2"
  },
  "language_info": {
   "codemirror_mode": {
    "name": "ipython",
    "version": 2
   },
   "file_extension": ".py",
   "mimetype": "text/x-python",
   "name": "python",
   "nbconvert_exporter": "python",
   "pygments_lexer": "ipython2",
   "version": "2.7.12"
  }
 },
 "nbformat": 4,
 "nbformat_minor": 2
}
